{
  "nbformat": 4,
  "nbformat_minor": 0,
  "metadata": {
    "colab": {
      "provenance": [],
      "gpuType": "T4"
    },
    "kernelspec": {
      "name": "python3",
      "display_name": "Python 3"
    },
    "language_info": {
      "name": "python"
    },
    "accelerator": "GPU"
  },
  "cells": [
    {
      "cell_type": "code",
      "execution_count": 1,
      "metadata": {
        "id": "NwNzECfYMsfP"
      },
      "outputs": [],
      "source": [
        "#GAN architecture\n",
        "import tensorflow as tf\n",
        "from tensorflow import keras as ke\n",
        "LR_shape = (32,32,3)\n",
        "s = 2\n",
        "HR_shape = (LR_shape[0]*s,LR_shape[1]*s,3)\n",
        "\n",
        "\n",
        "def Generator(LR_shape = LR_shape,s = s):\n",
        "    model = ke.Sequential()\n",
        "    # model.add(ke.layers.Conv2D(3,(64,64),strides=(4,4),input_shape=LR_shape,activation='relu'))\n",
        "    # model.add(ke.layers.MaxPool2D())\n",
        "    model.add(ke.layers.Flatten(input_shape=(LR_shape)))\n",
        "    model.add(ke.layers.Dense(LR_shape[0]*LR_shape[1]*3,activation='relu'))\n",
        "    model.add(ke.layers.Dense(LR_shape[0]*s*LR_shape[1]*s*3,activation='sigmoid'))\n",
        "    HR_shape = (LR_shape[0]*s,LR_shape[1]*s,3)\n",
        "    model.add(ke.layers.Reshape(HR_shape))\n",
        "    return model"
      ]
    },
    {
      "cell_type": "code",
      "source": [
        "# drive access\n",
        "from google.colab import drive\n",
        "drive.mount('/content/gdrive')\n"
      ],
      "metadata": {
        "colab": {
          "base_uri": "https://localhost:8080/"
        },
        "id": "pDoydLZbUIuN",
        "outputId": "f93701cb-31a8-49a4-cee4-69bde9aceb40"
      },
      "execution_count": 2,
      "outputs": [
        {
          "output_type": "stream",
          "name": "stdout",
          "text": [
            "Drive already mounted at /content/gdrive; to attempt to forcibly remount, call drive.mount(\"/content/gdrive\", force_remount=True).\n"
          ]
        }
      ]
    },
    {
      "cell_type": "code",
      "source": [
        "# making low res images\n",
        "import numpy as np\n",
        "from PIL import Image\n",
        "import numpy\n",
        "\n",
        "def get_img_arr(path: str):\n",
        "    img = np.array(Image.open(path))\n",
        "    return img\n",
        "\n",
        "def high_to_lowres(img_num: str):\n",
        "    img_path = \"/content/gdrive/MyDrive/00000/\"+img_num+\".png\" #replace with location of data\n",
        "    img_arr = get_img_arr(img_path)\n",
        "    img_arr = img_arr.astype(np.float64)\n",
        "    lr_img_arr = np.zeros((512,512,3))\n",
        "    for k in range(lr_img_arr.shape[2]):\n",
        "        for i in range(lr_img_arr.shape[0]):\n",
        "            for j in range(lr_img_arr.shape[1]):\n",
        "                lr_img_arr[i,j,k] = (img_arr[2*i,2*j,k] + img_arr[2*i,2*j+1,k] + img_arr[2*i+1,2*j,k] + img_arr[2*i+1,2*j+1,k])/4\n",
        "    lr_img = Image.fromarray(lr_img_arr.astype(np.uint8))\n",
        "    lr_img.save(\"/content/gdrive/MyDrive/lr_imgs/\"+img_num+\"_lr.png\") #replace with desired location of LR imgs\n",
        "\n",
        "img_num = '00000'\n",
        "img0 = get_img_arr(\"/content/gdrive/MyDrive/00000/\"+img_num+\".png\")\n",
        "img0.shape"
      ],
      "metadata": {
        "colab": {
          "base_uri": "https://localhost:8080/"
        },
        "id": "jahyGEVbUYY2",
        "outputId": "a8818421-ba79-4bf5-a1c1-7800b7040f21"
      },
      "execution_count": 3,
      "outputs": [
        {
          "output_type": "execute_result",
          "data": {
            "text/plain": [
              "(1024, 1024, 3)"
            ]
          },
          "metadata": {},
          "execution_count": 3
        }
      ]
    },
    {
      "cell_type": "code",
      "source": [
        "# apply above high_to_lowres function on '00000' to '01000' this is for generating low res images\n",
        "#only run this if you want to generate the low res data\n",
        "\n",
        "for i in range(0,1000):\n",
        "    img_num = str(i).zfill(5)\n",
        "    high_to_lowres(img_num)"
      ],
      "metadata": {
        "colab": {
          "base_uri": "https://localhost:8080/",
          "height": 356
        },
        "id": "Myt72NVdUrQn",
        "outputId": "dfaa8390-4f39-4ee6-e05d-2a96b8bafc1b"
      },
      "execution_count": null,
      "outputs": [
        {
          "output_type": "error",
          "ename": "KeyboardInterrupt",
          "evalue": "ignored",
          "traceback": [
            "\u001b[0;31m---------------------------------------------------------------------------\u001b[0m",
            "\u001b[0;31mKeyboardInterrupt\u001b[0m                         Traceback (most recent call last)",
            "\u001b[0;32m<ipython-input-4-039364050537>\u001b[0m in \u001b[0;36m<cell line: 3>\u001b[0;34m()\u001b[0m\n\u001b[1;32m      3\u001b[0m \u001b[0;32mfor\u001b[0m \u001b[0mi\u001b[0m \u001b[0;32min\u001b[0m \u001b[0mrange\u001b[0m\u001b[0;34m(\u001b[0m\u001b[0;36m0\u001b[0m\u001b[0;34m,\u001b[0m\u001b[0;36m1000\u001b[0m\u001b[0;34m)\u001b[0m\u001b[0;34m:\u001b[0m\u001b[0;34m\u001b[0m\u001b[0;34m\u001b[0m\u001b[0m\n\u001b[1;32m      4\u001b[0m     \u001b[0mimg_num\u001b[0m \u001b[0;34m=\u001b[0m \u001b[0mstr\u001b[0m\u001b[0;34m(\u001b[0m\u001b[0mi\u001b[0m\u001b[0;34m)\u001b[0m\u001b[0;34m.\u001b[0m\u001b[0mzfill\u001b[0m\u001b[0;34m(\u001b[0m\u001b[0;36m5\u001b[0m\u001b[0;34m)\u001b[0m\u001b[0;34m\u001b[0m\u001b[0;34m\u001b[0m\u001b[0m\n\u001b[0;32m----> 5\u001b[0;31m     \u001b[0mhigh_to_lowres\u001b[0m\u001b[0;34m(\u001b[0m\u001b[0mimg_num\u001b[0m\u001b[0;34m)\u001b[0m\u001b[0;34m\u001b[0m\u001b[0;34m\u001b[0m\u001b[0m\n\u001b[0m",
            "\u001b[0;32m<ipython-input-3-50738ca6f22c>\u001b[0m in \u001b[0;36mhigh_to_lowres\u001b[0;34m(img_num)\u001b[0m\n\u001b[1;32m     10\u001b[0m \u001b[0;32mdef\u001b[0m \u001b[0mhigh_to_lowres\u001b[0m\u001b[0;34m(\u001b[0m\u001b[0mimg_num\u001b[0m\u001b[0;34m:\u001b[0m \u001b[0mstr\u001b[0m\u001b[0;34m)\u001b[0m\u001b[0;34m:\u001b[0m\u001b[0;34m\u001b[0m\u001b[0;34m\u001b[0m\u001b[0m\n\u001b[1;32m     11\u001b[0m     \u001b[0mimg_path\u001b[0m \u001b[0;34m=\u001b[0m \u001b[0;34m\"/content/gdrive/MyDrive/00000/\"\u001b[0m\u001b[0;34m+\u001b[0m\u001b[0mimg_num\u001b[0m\u001b[0;34m+\u001b[0m\u001b[0;34m\".png\"\u001b[0m\u001b[0;34m\u001b[0m\u001b[0;34m\u001b[0m\u001b[0m\n\u001b[0;32m---> 12\u001b[0;31m     \u001b[0mimg_arr\u001b[0m \u001b[0;34m=\u001b[0m \u001b[0mget_img_arr\u001b[0m\u001b[0;34m(\u001b[0m\u001b[0mimg_path\u001b[0m\u001b[0;34m)\u001b[0m\u001b[0;34m\u001b[0m\u001b[0;34m\u001b[0m\u001b[0m\n\u001b[0m\u001b[1;32m     13\u001b[0m     \u001b[0mimg_arr\u001b[0m \u001b[0;34m=\u001b[0m \u001b[0mimg_arr\u001b[0m\u001b[0;34m.\u001b[0m\u001b[0mastype\u001b[0m\u001b[0;34m(\u001b[0m\u001b[0mnp\u001b[0m\u001b[0;34m.\u001b[0m\u001b[0mfloat64\u001b[0m\u001b[0;34m)\u001b[0m\u001b[0;34m\u001b[0m\u001b[0;34m\u001b[0m\u001b[0m\n\u001b[1;32m     14\u001b[0m     \u001b[0mlr_img_arr\u001b[0m \u001b[0;34m=\u001b[0m \u001b[0mnp\u001b[0m\u001b[0;34m.\u001b[0m\u001b[0mzeros\u001b[0m\u001b[0;34m(\u001b[0m\u001b[0;34m(\u001b[0m\u001b[0;36m512\u001b[0m\u001b[0;34m,\u001b[0m\u001b[0;36m512\u001b[0m\u001b[0;34m,\u001b[0m\u001b[0;36m3\u001b[0m\u001b[0;34m)\u001b[0m\u001b[0;34m)\u001b[0m\u001b[0;34m\u001b[0m\u001b[0;34m\u001b[0m\u001b[0m\n",
            "\u001b[0;32m<ipython-input-3-50738ca6f22c>\u001b[0m in \u001b[0;36mget_img_arr\u001b[0;34m(path)\u001b[0m\n\u001b[1;32m      5\u001b[0m \u001b[0;34m\u001b[0m\u001b[0m\n\u001b[1;32m      6\u001b[0m \u001b[0;32mdef\u001b[0m \u001b[0mget_img_arr\u001b[0m\u001b[0;34m(\u001b[0m\u001b[0mpath\u001b[0m\u001b[0;34m:\u001b[0m \u001b[0mstr\u001b[0m\u001b[0;34m)\u001b[0m\u001b[0;34m:\u001b[0m\u001b[0;34m\u001b[0m\u001b[0;34m\u001b[0m\u001b[0m\n\u001b[0;32m----> 7\u001b[0;31m     \u001b[0mimg\u001b[0m \u001b[0;34m=\u001b[0m \u001b[0mnp\u001b[0m\u001b[0;34m.\u001b[0m\u001b[0marray\u001b[0m\u001b[0;34m(\u001b[0m\u001b[0mImage\u001b[0m\u001b[0;34m.\u001b[0m\u001b[0mopen\u001b[0m\u001b[0;34m(\u001b[0m\u001b[0mpath\u001b[0m\u001b[0;34m)\u001b[0m\u001b[0;34m)\u001b[0m\u001b[0;34m\u001b[0m\u001b[0;34m\u001b[0m\u001b[0m\n\u001b[0m\u001b[1;32m      8\u001b[0m     \u001b[0;32mreturn\u001b[0m \u001b[0mimg\u001b[0m\u001b[0;34m\u001b[0m\u001b[0;34m\u001b[0m\u001b[0m\n\u001b[1;32m      9\u001b[0m \u001b[0;34m\u001b[0m\u001b[0m\n",
            "\u001b[0;32m/usr/local/lib/python3.10/dist-packages/PIL/Image.py\u001b[0m in \u001b[0;36mopen\u001b[0;34m(fp, mode, formats)\u001b[0m\n\u001b[1;32m   3234\u001b[0m         \u001b[0mexclusive_fp\u001b[0m \u001b[0;34m=\u001b[0m \u001b[0;32mTrue\u001b[0m\u001b[0;34m\u001b[0m\u001b[0;34m\u001b[0m\u001b[0m\n\u001b[1;32m   3235\u001b[0m \u001b[0;34m\u001b[0m\u001b[0m\n\u001b[0;32m-> 3236\u001b[0;31m     \u001b[0mprefix\u001b[0m \u001b[0;34m=\u001b[0m \u001b[0mfp\u001b[0m\u001b[0;34m.\u001b[0m\u001b[0mread\u001b[0m\u001b[0;34m(\u001b[0m\u001b[0;36m16\u001b[0m\u001b[0;34m)\u001b[0m\u001b[0;34m\u001b[0m\u001b[0;34m\u001b[0m\u001b[0m\n\u001b[0m\u001b[1;32m   3237\u001b[0m \u001b[0;34m\u001b[0m\u001b[0m\n\u001b[1;32m   3238\u001b[0m     \u001b[0mpreinit\u001b[0m\u001b[0;34m(\u001b[0m\u001b[0;34m)\u001b[0m\u001b[0;34m\u001b[0m\u001b[0;34m\u001b[0m\u001b[0m\n",
            "\u001b[0;31mKeyboardInterrupt\u001b[0m: "
          ]
        }
      ]
    },
    {
      "cell_type": "code",
      "source": [
        "# model creation\n",
        "\n",
        "gen = Generator()\n",
        "gen.compile(loss=\"mean_squared_error\", optimizer='adam', metrics=['accuracy'])\n",
        "gen.summary()"
      ],
      "metadata": {
        "colab": {
          "base_uri": "https://localhost:8080/"
        },
        "id": "z2J8BpNVUugL",
        "outputId": "5c627c63-847a-46c4-fab7-7b275da6650d"
      },
      "execution_count": 4,
      "outputs": [
        {
          "output_type": "stream",
          "name": "stdout",
          "text": [
            "Model: \"sequential\"\n",
            "_________________________________________________________________\n",
            " Layer (type)                Output Shape              Param #   \n",
            "=================================================================\n",
            " flatten (Flatten)           (None, 3072)              0         \n",
            "                                                                 \n",
            " dense (Dense)               (None, 3072)              9440256   \n",
            "                                                                 \n",
            " dense_1 (Dense)             (None, 12288)             37761024  \n",
            "                                                                 \n",
            " reshape (Reshape)           (None, 64, 64, 3)         0         \n",
            "                                                                 \n",
            "=================================================================\n",
            "Total params: 47201280 (180.06 MB)\n",
            "Trainable params: 47201280 (180.06 MB)\n",
            "Non-trainable params: 0 (0.00 Byte)\n",
            "_________________________________________________________________\n"
          ]
        }
      ]
    },
    {
      "cell_type": "code",
      "source": [
        "import random as rd\n",
        "import time\n",
        "\n",
        "def pick_box(img:np.ndarray,box_size:int):\n",
        "    img_shape = img.shape\n",
        "    x_max, y_max = img_shape[0] - box_size, img_shape[1] - box_size\n",
        "    x, y = rd.randint(0,x_max), rd.randint(0,y_max)\n",
        "    box = img[x:x+box_size,y:y+box_size,:] #check shape of box\n",
        "    assert box.shape == (box_size,box_size,3)\n",
        "    return box\n",
        "\n",
        "def make_real_batch_arr(img_names:list):\n",
        "    boxes_lst = []\n",
        "    for img_num in img_names:\n",
        "        img_hr = get_img_arr(\"/content/gdrive/MyDrive/00000/\"+img_num+\".png\") #replace with location of data\n",
        "        box = pick_box(img_hr,HR_shape[0])\n",
        "        boxes_lst.append(box)\n",
        "    boxes_arr = np.array(boxes_lst)\n",
        "    return boxes_arr/255\n",
        "\n",
        "def gen_input_batch_arr(img_names:list):\n",
        "    boxes_lst = []\n",
        "    for img_num in img_names:\n",
        "        img_lr = get_img_arr(\"/content/gdrive/MyDrive/lr_imgs/\"+img_num+\"_lr.png\")#replace with location of LR images\n",
        "        box = pick_box(img_lr,LR_shape[0])\n",
        "        boxes_lst.append(box)\n",
        "    boxes_arr = np.array(boxes_lst)\n",
        "    return boxes_arr/255\n",
        "\n",
        "def real_batch_to_lr(batch_arr:np.ndarray):\n",
        "    lr_batch = []\n",
        "    for n in range(batch_arr.shape[0]):\n",
        "        img_arr = batch_arr[n]\n",
        "        img_arr = img_arr.astype(np.float64)\n",
        "        lr_img_arr = np.zeros((32,32,3))\n",
        "        for k in range(lr_img_arr.shape[2]):\n",
        "            for i in range(lr_img_arr.shape[0]):\n",
        "                for j in range(lr_img_arr.shape[1]):\n",
        "                    lr_img_arr[i,j,k] = (img_arr[2*i,2*j,k] + img_arr[2*i,2*j+1,k] + img_arr[2*i+1,2*j,k] + img_arr[2*i+1,2*j+1,k])/4\n",
        "        lr_batch.append(lr_img_arr)\n",
        "    lr_batch_arr = np.array(lr_batch)\n",
        "    return lr_batch_arr\n",
        "\n",
        "def make_name_batches(img_names:list,batch_size:int):\n",
        "    batches = []\n",
        "    for i in range(len(img_names)//batch_size):\n",
        "        batches.append(img_names[i*batch_size:(i+1)*batch_size])\n",
        "    return batches"
      ],
      "metadata": {
        "id": "QfZgRaRAVhSp"
      },
      "execution_count": 5,
      "outputs": []
    },
    {
      "cell_type": "code",
      "source": [
        "!pip install Pillow --upgrade"
      ],
      "metadata": {
        "colab": {
          "base_uri": "https://localhost:8080/",
          "height": 342
        },
        "id": "K3B_uYyTpSHY",
        "outputId": "8acadc92-63ef-4036-a59e-4540915b19cb"
      },
      "execution_count": 18,
      "outputs": [
        {
          "output_type": "stream",
          "name": "stdout",
          "text": [
            "Requirement already satisfied: Pillow in /usr/local/lib/python3.10/dist-packages (9.4.0)\n",
            "Collecting Pillow\n",
            "  Downloading Pillow-10.1.0-cp310-cp310-manylinux_2_28_x86_64.whl (3.6 MB)\n",
            "\u001b[2K     \u001b[90m━━━━━━━━━━━━━━━━━━━━━━━━━━━━━━━━━━━━━━━━\u001b[0m \u001b[32m3.6/3.6 MB\u001b[0m \u001b[31m12.7 MB/s\u001b[0m eta \u001b[36m0:00:00\u001b[0m\n",
            "\u001b[?25hInstalling collected packages: Pillow\n",
            "  Attempting uninstall: Pillow\n",
            "    Found existing installation: Pillow 9.4.0\n",
            "    Uninstalling Pillow-9.4.0:\n",
            "      Successfully uninstalled Pillow-9.4.0\n",
            "\u001b[31mERROR: pip's dependency resolver does not currently take into account all the packages that are installed. This behaviour is the source of the following dependency conflicts.\n",
            "imageio 2.31.6 requires pillow<10.1.0,>=8.3.2, but you have pillow 10.1.0 which is incompatible.\u001b[0m\u001b[31m\n",
            "\u001b[0mSuccessfully installed Pillow-10.1.0\n"
          ]
        },
        {
          "output_type": "display_data",
          "data": {
            "application/vnd.colab-display-data+json": {
              "pip_warning": {
                "packages": [
                  "PIL"
                ]
              }
            }
          },
          "metadata": {}
        }
      ]
    },
    {
      "cell_type": "code",
      "source": [
        "start = time.time()\n",
        "\n",
        "no_of_epochs = 10\n",
        "batch_size = 100\n",
        "\n",
        "real = np.ones((batch_size,1))\n",
        "fake = np.zeros((batch_size,1))\n",
        "\n",
        "\n",
        "img_names = [str(i).zfill(5) for i in range(900)]\n",
        "\n",
        "for epoch in range(1,no_of_epochs+1):\n",
        "    print(\"Epoch: \",epoch)\n",
        "    rd.shuffle(img_names)\n",
        "    batches = make_name_batches(img_names,batch_size)\n",
        "    for batch in batches:\n",
        "        real_batch_arr = make_real_batch_arr(batch)\n",
        "        gen_input_arr = real_batch_to_lr(real_batch_arr)\n",
        "        loss = gen.train_on_batch(gen_input_arr,real_batch_arr)\n",
        "        print(loss)\n",
        "gen.save(\"/content/gdrive/MyDrive/model/L2model\")\n",
        "end = time.time()\n",
        "print(\"Time Taken: \",end-start)"
      ],
      "metadata": {
        "colab": {
          "base_uri": "https://localhost:8080/"
        },
        "id": "GoEfXnd4VqYe",
        "outputId": "95bddd74-6ed3-4ecf-ae08-d066ac44b211"
      },
      "execution_count": 6,
      "outputs": [
        {
          "output_type": "stream",
          "name": "stdout",
          "text": [
            "Epoch:  1\n",
            "[0.07387447357177734, 0.3461352586746216]\n",
            "[0.07007425278425217, 0.46442872285842896]\n",
            "[0.07752908021211624, 0.6123461723327637]\n",
            "[0.07681715488433838, 0.7503027319908142]\n",
            "[0.06417519599199295, 0.8020995855331421]\n",
            "[0.07125259190797806, 0.83697509765625]\n",
            "[0.06435690075159073, 0.8102734088897705]\n",
            "[0.06384465098381042, 0.7793359160423279]\n",
            "[0.07031507790088654, 0.7793188691139221]\n",
            "Epoch:  2\n",
            "[0.06741200387477875, 0.7810864448547363]\n",
            "[0.07100191712379456, 0.7514477372169495]\n",
            "[0.05752624571323395, 0.7878271341323853]\n",
            "[0.06221716105937958, 0.7540649175643921]\n",
            "[0.06250092387199402, 0.7903100848197937]\n",
            "[0.04792608693242073, 0.8453222513198853]\n",
            "[0.05933758616447449, 0.8359130620956421]\n",
            "[0.06282078474760056, 0.7939916849136353]\n",
            "[0.055969852954149246, 0.8198486566543579]\n",
            "Epoch:  3\n",
            "[0.05762610584497452, 0.7796899676322937]\n",
            "[0.055313412100076675, 0.770678699016571]\n",
            "[0.0582079142332077, 0.7950049042701721]\n",
            "[0.04283444955945015, 0.878125011920929]\n",
            "[0.06521002948284149, 0.8126489520072937]\n",
            "[0.061097465455532074, 0.7653906345367432]\n",
            "[0.04234511777758598, 0.8144970536231995]\n",
            "[0.04533567279577255, 0.8119238018989563]\n",
            "[0.04695770889520645, 0.869982898235321]\n",
            "Epoch:  4\n",
            "[0.04960965737700462, 0.7999438643455505]\n",
            "[0.0531686395406723, 0.8348144292831421]\n",
            "[0.044970475137233734, 0.8204760551452637]\n",
            "[0.03817096725106239, 0.8382934331893921]\n",
            "[0.048947952687740326, 0.8128393292427063]\n",
            "[0.04973657429218292, 0.8136352300643921]\n",
            "[0.0445975698530674, 0.7895214557647705]\n",
            "[0.04471426457166672, 0.7555176019668579]\n",
            "[0.04258207231760025, 0.8350048661231995]\n",
            "Epoch:  5\n",
            "[0.03979836031794548, 0.8132226467132568]\n",
            "[0.044486597180366516, 0.8635888695716858]\n",
            "[0.03536416217684746, 0.8773950338363647]\n",
            "[0.040650010108947754, 0.8584423661231995]\n",
            "[0.03447378799319267, 0.8505151271820068]\n",
            "[0.03864468261599541, 0.8748095631599426]\n",
            "[0.031495600938797, 0.8825952410697937]\n",
            "[0.0323910154402256, 0.8860327005386353]\n",
            "[0.03685999661684036, 0.8582983613014221]\n",
            "Epoch:  6\n",
            "[0.03812769055366516, 0.848803699016571]\n",
            "[0.0421043336391449, 0.841064453125]\n",
            "[0.04561303183436394, 0.8581323027610779]\n",
            "[0.04286668449640274, 0.861083984375]\n",
            "[0.039812568575143814, 0.8578735589981079]\n",
            "[0.03577223792672157, 0.8706299066543579]\n",
            "[0.032531674951314926, 0.8774072527885437]\n",
            "[0.03821592032909393, 0.8894384503364563]\n",
            "[0.034093525260686874, 0.82586669921875]\n",
            "Epoch:  7\n",
            "[0.040980711579322815, 0.8566723465919495]\n",
            "[0.04390643537044525, 0.8848217725753784]\n",
            "[0.02989793010056019, 0.9052661061286926]\n",
            "[0.043633148074150085, 0.8492407202720642]\n",
            "[0.03812067210674286, 0.8860522508621216]\n",
            "[0.039469312876462936, 0.9017138481140137]\n",
            "[0.04282011091709137, 0.8676074147224426]\n",
            "[0.03923618048429489, 0.8734545707702637]\n",
            "[0.03867398947477341, 0.8178442120552063]\n",
            "Epoch:  8\n",
            "[0.046723622828722, 0.8292895555496216]\n",
            "[0.04505688324570656, 0.8200244307518005]\n",
            "[0.043485913425683975, 0.885754406452179]\n",
            "[0.04612785205245018, 0.8604931831359863]\n",
            "[0.039552513509988785, 0.8120312690734863]\n",
            "[0.03582456707954407, 0.8482348918914795]\n",
            "[0.038570962846279144, 0.8644629120826721]\n",
            "[0.03872661665081978, 0.8473169207572937]\n",
            "[0.03944588080048561, 0.8283300995826721]\n",
            "Epoch:  9\n",
            "[0.03694606572389603, 0.80645751953125]\n",
            "[0.03551440313458443, 0.8874170184135437]\n",
            "[0.03691376373171806, 0.8378564715385437]\n",
            "[0.03905319795012474, 0.7968481183052063]\n",
            "[0.03492273762822151, 0.8728613257408142]\n",
            "[0.04573841392993927, 0.8251049518585205]\n",
            "[0.036717403680086136, 0.7958202958106995]\n",
            "[0.04517878592014313, 0.8266894817352295]\n",
            "[0.045176587998867035, 0.873950183391571]\n",
            "Epoch:  10\n",
            "[0.036572761833667755, 0.8440282940864563]\n",
            "[0.04773431271314621, 0.8504492044448853]\n",
            "[0.039320219308137894, 0.8762719631195068]\n",
            "[0.04054534062743187, 0.8449609279632568]\n",
            "[0.04450830817222595, 0.84991455078125]\n",
            "[0.037739988416433334, 0.8169897198677063]\n",
            "[0.035190507769584656, 0.8482397198677063]\n",
            "[0.03533007577061653, 0.8921411037445068]\n",
            "[0.03683146834373474, 0.8922412395477295]\n",
            "Time Taken:  459.80084919929504\n"
          ]
        }
      ]
    },
    {
      "cell_type": "code",
      "source": [
        "# code to load the saved model\n",
        "\n",
        "gen = ke.models.load_model(\"/content/gdrive/MyDrive/model/L2model\")\n"
      ],
      "metadata": {
        "id": "CVyHraTurzEJ"
      },
      "execution_count": null,
      "outputs": []
    },
    {
      "cell_type": "code",
      "source": [
        "# prediction\n",
        "\n",
        "def enhance(generator,img_lr:np.ndarray):\n",
        "    img_shape = (1024,1024,3)\n",
        "    img_hr_arr = np.zeros(img_shape)\n",
        "    box_size = LR_shape[0]\n",
        "    input_boxes = []\n",
        "    for x in range(0,512,box_size):\n",
        "        for y in range(0,512,box_size):\n",
        "            lr_box = img_lr[x:x+box_size,y:y+box_size,:]\n",
        "            input_boxes.append(lr_box)\n",
        "    input_arr = np.array(input_boxes)\n",
        "    output_arr = generator.predict(input_arr)\n",
        "    print(output_arr[0])\n",
        "    n = 0\n",
        "    for x in range(0,1024,s*box_size):\n",
        "        for y in range(0,1024,s*box_size):\n",
        "            img_hr_arr[x:x+s*box_size,y:y+s*box_size,:] = output_arr[n]\n",
        "            n += 1\n",
        "    img_hr_arr = 255*img_hr_arr\n",
        "    print(img_hr_arr.shape)\n",
        "    img_hr = Image.fromarray(img_hr_arr.astype(np.uint8))\n",
        "    return img_hr\n"
      ],
      "metadata": {
        "id": "stq5XLQ6Wv8S"
      },
      "execution_count": 7,
      "outputs": []
    },
    {
      "cell_type": "code",
      "source": [
        "img_num = '00000'\n",
        "img_lr = get_img_arr(\"/content/gdrive/MyDrive/lr_imgs/\"+img_num+\"_lr.png\") #replace with location of LR imgs\n",
        "img_hr = enhance(gen,img_lr)\n",
        "img_hr.save(\"test_enhancedL1_img.png\")"
      ],
      "metadata": {
        "colab": {
          "base_uri": "https://localhost:8080/"
        },
        "id": "8iqTFZUsW08o",
        "outputId": "8ccb73e2-8696-4b14-b3f6-684cccca133f"
      },
      "execution_count": 8,
      "outputs": [
        {
          "output_type": "stream",
          "name": "stdout",
          "text": [
            "8/8 [==============================] - 0s 3ms/step\n",
            "[[[0.0000000e+00 0.0000000e+00 1.0000000e+00]\n",
            "  [0.0000000e+00 8.3972373e-38 1.0000000e+00]\n",
            "  [0.0000000e+00 0.0000000e+00 1.0000000e+00]\n",
            "  ...\n",
            "  [0.0000000e+00 2.8949433e-22 1.0000000e+00]\n",
            "  [0.0000000e+00 0.0000000e+00 1.0000000e+00]\n",
            "  [0.0000000e+00 0.0000000e+00 1.0000000e+00]]\n",
            "\n",
            " [[0.0000000e+00 0.0000000e+00 1.0000000e+00]\n",
            "  [0.0000000e+00 0.0000000e+00 1.0000000e+00]\n",
            "  [0.0000000e+00 0.0000000e+00 1.0000000e+00]\n",
            "  ...\n",
            "  [0.0000000e+00 8.2080891e-33 1.0000000e+00]\n",
            "  [0.0000000e+00 0.0000000e+00 1.0000000e+00]\n",
            "  [0.0000000e+00 1.0135649e-22 1.0000000e+00]]\n",
            "\n",
            " [[0.0000000e+00 0.0000000e+00 1.0000000e+00]\n",
            "  [0.0000000e+00 0.0000000e+00 1.0000000e+00]\n",
            "  [0.0000000e+00 0.0000000e+00 1.0000000e+00]\n",
            "  ...\n",
            "  [0.0000000e+00 0.0000000e+00 1.0000000e+00]\n",
            "  [0.0000000e+00 0.0000000e+00 1.0000000e+00]\n",
            "  [0.0000000e+00 9.5268218e-17 1.0000000e+00]]\n",
            "\n",
            " ...\n",
            "\n",
            " [[0.0000000e+00 0.0000000e+00 1.0000000e+00]\n",
            "  [0.0000000e+00 0.0000000e+00 1.0000000e+00]\n",
            "  [0.0000000e+00 0.0000000e+00 9.9996233e-01]\n",
            "  ...\n",
            "  [0.0000000e+00 0.0000000e+00 1.0000000e+00]\n",
            "  [0.0000000e+00 0.0000000e+00 1.0000000e+00]\n",
            "  [0.0000000e+00 0.0000000e+00 1.0000000e+00]]\n",
            "\n",
            " [[0.0000000e+00 0.0000000e+00 1.0000000e+00]\n",
            "  [0.0000000e+00 0.0000000e+00 1.0000000e+00]\n",
            "  [0.0000000e+00 0.0000000e+00 1.0000000e+00]\n",
            "  ...\n",
            "  [0.0000000e+00 0.0000000e+00 1.0000000e+00]\n",
            "  [0.0000000e+00 0.0000000e+00 1.0000000e+00]\n",
            "  [0.0000000e+00 0.0000000e+00 1.0000000e+00]]\n",
            "\n",
            " [[0.0000000e+00 0.0000000e+00 1.0000000e+00]\n",
            "  [0.0000000e+00 0.0000000e+00 1.0000000e+00]\n",
            "  [0.0000000e+00 0.0000000e+00 1.0000000e+00]\n",
            "  ...\n",
            "  [0.0000000e+00 0.0000000e+00 1.0000000e+00]\n",
            "  [0.0000000e+00 0.0000000e+00 1.0000000e+00]\n",
            "  [0.0000000e+00 0.0000000e+00 1.0000000e+00]]]\n",
            "(1024, 1024, 3)\n"
          ]
        }
      ]
    },
    {
      "cell_type": "code",
      "source": [
        "gen.get_weights()"
      ],
      "metadata": {
        "colab": {
          "base_uri": "https://localhost:8080/"
        },
        "id": "DNboCcbpW5he",
        "outputId": "d512481a-5462-44b4-9b4e-3d789471e31d"
      },
      "execution_count": null,
      "outputs": [
        {
          "output_type": "execute_result",
          "data": {
            "text/plain": [
              "[array([[-0.03474364, -0.006733  ,  0.03319844, ...,  0.01608609,\n",
              "         -0.01078267,  0.02810628],\n",
              "        [-0.00169752,  0.01050872,  0.00872461, ...,  0.0073162 ,\n",
              "         -0.02205878,  0.01315914],\n",
              "        [ 0.0123641 , -0.01013493,  0.03077506, ...,  0.00775197,\n",
              "         -0.03343421, -0.01918154],\n",
              "        ...,\n",
              "        [-0.03029131, -0.02152351, -0.00211731, ..., -0.0057497 ,\n",
              "         -0.03472714,  0.00309255],\n",
              "        [-0.00070133,  0.01194959, -0.01720232, ...,  0.02334778,\n",
              "         -0.01624081, -0.00689805],\n",
              "        [-0.02688782,  0.01091124, -0.00908104, ...,  0.02086956,\n",
              "         -0.00117854,  0.00680057]], dtype=float32),\n",
              " array([-0.03245052,  0.00489448,  0.03545408, ...,  0.03727034,\n",
              "        -0.0387821 ,  0.03745752], dtype=float32),\n",
              " array([[ 0.01835281,  0.01430098,  0.00461422, ..., -0.00880362,\n",
              "         -0.01320824,  0.00650637],\n",
              "        [ 0.00386935,  0.00806288, -0.00469451, ...,  0.00903872,\n",
              "         -0.00903917,  0.00913495],\n",
              "        [-0.01000282, -0.00889328, -0.01011069, ..., -0.02597018,\n",
              "         -0.01040835,  0.01607838],\n",
              "        ...,\n",
              "        [ 0.00014501, -0.01771899, -0.02393247, ..., -0.00911459,\n",
              "         -0.02902303, -0.01729926],\n",
              "        [ 0.02876452,  0.01374557, -0.00348618, ...,  0.00581266,\n",
              "          0.01313832,  0.00157461],\n",
              "        [-0.00042381, -0.00109305, -0.00545183, ..., -0.01503442,\n",
              "          0.00057782, -0.00558082]], dtype=float32),\n",
              " array([-0.02529782, -0.02923514, -0.02207974, ..., -0.02921129,\n",
              "        -0.02538888, -0.02827276], dtype=float32)]"
            ]
          },
          "metadata": {},
          "execution_count": 21
        }
      ]
    },
    {
      "cell_type": "code",
      "source": [],
      "metadata": {
        "id": "jH-0JWVfiTA_"
      },
      "execution_count": null,
      "outputs": []
    }
  ]
}